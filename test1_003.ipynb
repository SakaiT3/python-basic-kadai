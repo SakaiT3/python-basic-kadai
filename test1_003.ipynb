{
          "output_type": "stream",
          "name": "stdout",
          "text": [
            "上辺：１０ｃｍ\n",
            "下辺：２０ｃｍ\n",
            "高さ：５ｃｍ\n",
            "台形の面積 75.0ｃｍ²\n"
          ]
        }
      ],
      "source": [
        "#課題四則演算\n",
        "upper_line = 10\n",
        "lower_line = 20\n",
        "height = 5\n",
        "\n",
        "square = ((upper_line + lower_line)*height)/2\n",
        "\n",
        "print(\"上辺：１０ｃｍ\")\n",
        "print(\"下辺：２０ｃｍ\")\n",
        "print(\"高さ：５ｃｍ\")\n",
        "\n",
        "print(f\"台形の面積 {square}ｃｍ²\")"
      ]
    },
