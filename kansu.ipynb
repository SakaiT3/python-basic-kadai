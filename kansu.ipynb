


        "def total_price(price, c_tax):\n",
        "\n",
        "    total = price + price*(c_tax/100)\n",
        "    print (f\"合計金額は{total}円です。\")\n",
        "\n",
        "total_price(100,10)\n"


          "text": [
            "合計金額は110.0円です。\n"
    
