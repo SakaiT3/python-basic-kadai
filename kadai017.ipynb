

        "class Human:\n",
        "    def __init__(self, name, age):\n",
        "        self.name = name\n",
        "        self.age = age\n",
        "\n",
        "    def check_adult(self, name, age):\n",
        "        self.name = name\n",
        "        self.age = age\n",
        "        if self.age >= 20:\n",
        "            print (f\"{self.name}さんは大人です。\")\n",
        "        else:\n",
        "            print(f\"{self.name}さんは大人ではありません\")\n",
        "\n",
        "persons = {}\n",
        "\n",
        "human = Human(\"一郎\", 40)\n",
        "persons[human.name] = human.age\n",
        "\n",
        "human = Human(\"二郎\", 30)\n",
        "persons[human.name] = human.age\n",
        "\n",
        "human = Human(\"三郎\", 15)\n",
        "persons[human.name] = human.age\n",
        "\n",
        "for name, age in persons.items():\n",
        "    human.check_adult(name, age)"
      ],
    
          "text": [
            "一郎さんは大人です。\n",
            "二郎さんは大人です。\n",
            "三郎さんは大人ではありません\n"
          ]
        }
      ]
    }
  ]
}
