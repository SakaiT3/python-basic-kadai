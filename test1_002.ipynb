
          "output_type": "stream",
          "name": "stdout",
          "text": [
            "上辺：１０ｃｍ\n",
            "下辺：２０ｃｍ\n",
            "高さ：５ｃｍ\n",
            "台形の面積 75.0ｃｍ² = (上辺 10ｃｍ + 下辺 20cm) X 高さ 5ｃｍ ÷ 2\n"
          ]
        }
      ],
      "source": [
        "#課題四則演算\n",
        "upper_line = 10\n",
        "lower_line = 20\n",
        "height = 5\n",
        "\n",
        "square = ((upper_line + lower_line)*height)/2\n",
        "\n",
        "print(\"上辺：１０ｃｍ\")\n",
        "print(\"下辺：２０ｃｍ\")\n",
        "print(\"高さ：５ｃｍ\")\n",
        "\n",
        "print(f\"台形の面積 {square}ｃｍ² = (上辺 {upper_line}ｃｍ + 下辺 {lower_line}cm) X 高さ {height}ｃｍ ÷ 2\")"
      ]
    },
  
