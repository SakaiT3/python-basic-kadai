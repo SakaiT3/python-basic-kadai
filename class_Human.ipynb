

      "source": [
        "class Human:\n",
        "    def __init__(self, name, age):\n",
        "        self.name = name\n",
        "        self.age = age\n",
        "\n",
        "    def printinfo(self):\n",
        "        print(self.name)\n",
        "        print(self.age)\n",
        "\n",
        "human = Human(\"侍太郎\",35)\n",
        "\n",
        "human.printinfo()\n"

          "text": [
            "侍太郎\n",
            "35\n"
          ]
        }
      ]
    }
  ]
}
