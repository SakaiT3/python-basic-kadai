
        "#課題四則演算\n",
        "upper_line = 10\n",
        "lower_line = 20\n",
        "height = 5\n",
        "\n",
        "square = ((upper_line + lower_line)*height)/2\n",
        "\n",
        "print(\"上辺：１０ｃｍ\")\n",
        "print(\"下辺：２０ｃｍ\")\n",
        "print(\"高さ：５ｃｍ\")\n",
        "\n",
        "print(f\"台形の面積 {square}cm2 = (上辺 {upper_line}cm + 下辺 {lower_line}cm) X 高さ {height}cm ÷ 2\")"
      ]
    }
  ]
}
