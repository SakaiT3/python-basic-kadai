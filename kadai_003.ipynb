
      "source": [
        "import numpy as np\n",
        "\n",
        "num_A = np.array([[0,1], [2,3], [4,5]])\n",
        "num_B = np.array([[0,1,2,3], [4,5,6,7]])\n",
        "\n",
        "num_C = np.dot(num_A, num_B)\n",
        "\n",
        "print(num_C)\n",
        "\n",
        "num_C_max = num_C.max()\n",
        "\n",
        "print(num_C_max)\n",
        "\n",

          "text": [
            "[[ 4  5  6  7]\n",
            " [12 17 22 27]\n",
            " [20 29 38 47]]\n",
            "47\n"
