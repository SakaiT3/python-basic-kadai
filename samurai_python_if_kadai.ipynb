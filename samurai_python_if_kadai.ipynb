

      "source": [
        "#python　課題\n",
        "import random\n",
        "\n",
        "var = random.randint(0,100)\n",
        "\n",
        "print(var)\n",
        "\n",
        "var_3 = var % 3\n",
        "var_5 = var % 5\n",
        "\n",
        "if var_3 == 0 and var_5 == 0 :\n",
        "    print (\"FizzBuzz\")\n",
        "elif var_3 == 0:\n",
        "    print (\"Fizz\")\n",
        "elif var_5 == 0:\n",
        "    print (\"Buzz\")\n",
        "else:\n",
        "    print (var)\n",
        "\n",
        "\n"


      "execution_count": 23,



  ]
}
