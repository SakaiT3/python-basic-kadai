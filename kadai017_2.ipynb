
      "source": [
        "class Human:\n",
        "    def __init__(self, name, age):\n",
        "        self.name = name\n",
        "        self.age = age\n",
        "\n",
        "    def check_adult(self):\n",
        "        if self.age >= 20:\n",
        "            print (f\"{self.name}さんは大人です。\")\n",
        "        else:\n",
        "            print(f\"{self.name}さんは大人ではありません\")\n",
        "\n",
        "humans = [Human(\"一郎\", 40), Human(\"二郎\", 30), Human(\"三郎\", 15)]\n",
        "\n",
        "for human in humans:\n",
        "   human.check_adult()"

          "name": "stdout",
          "text": [
            "一郎さんは大人です。\n",
            "二郎さんは大人です。\n",
            "三郎さんは大人ではありません\n"
          ]
        }
      ]
    }
  ]
}
