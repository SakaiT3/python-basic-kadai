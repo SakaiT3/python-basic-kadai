
          "output_type": "stream",
          "name": "stdout",
          "text": [
            "水\n",
            "金\n",
            "地\n",
            "火\n",
            "木\n",
            "土\n",
            "天\n",
            "海\n",
            "冥\n",
            "水\n",
            "金\n",
            "地\n",
            "火\n",
            "木\n",
            "土\n",
            "天\n",
            "海\n",
            "冥\n"
          ]
        }
      ],
      "source": [
        "array = [\"水\",\"金\",\"地\",\"火\",\"木\",\"土\",\"天\",\"海\",\"冥\"]\n",
        "\n",
        "for item in array:\n",
        "    print (item)\n",
        "\n",
        "i= 0\n",
        "while i < 9:\n",
        "    item = array[i]\n",
        "    print (item)\n",
        "    i = i + 1\n"
      ]
    }
  ]
}
