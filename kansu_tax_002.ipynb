
        "def total_price(price, c_tax):\n",
        "\n",
        "    tax_price = price*(c_tax/100)\n",
        "    total = price + tax_price\n",
        "    return total\n",
        "\n",
        "price = total_price(110,10)\n",
        "print(price)\n",
        "\n"

          "text": [
            "121.0\n"
